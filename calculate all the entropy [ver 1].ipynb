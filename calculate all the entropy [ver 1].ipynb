{
 "cells": [
  {
   "cell_type": "code",
   "execution_count": 23,
   "id": "d0851502",
   "metadata": {},
   "outputs": [],
   "source": [
    "# importing necessary modules\n",
    "\n",
    "import pandas as pd\n",
    "import numpy as np\n",
    "from math import log as lg\n",
    "from tqdm import tqdm\n",
    "import json"
   ]
  },
  {
   "cell_type": "code",
   "execution_count": 24,
   "id": "2e97c0e4",
   "metadata": {},
   "outputs": [],
   "source": [
    "# import all the five lettered words and keeping them in a list 'words', total number is 'totalWordCount'\n",
    "\n",
    "with open('5_words_LaTa.txt') as f: lines = f.readlines()\n",
    "words = [word[:-1] for word in lines]\n",
    "\n",
    "totalWordCount = len(words)"
   ]
  },
  {
   "cell_type": "code",
   "execution_count": 25,
   "id": "82f142ab",
   "metadata": {},
   "outputs": [],
   "source": [
    "# importing the iteration choices, twoBit for only Green Black, threeBit for Green, Black, Yellow\n",
    "# choices are kept in 'choices' list\n",
    "\n",
    "with open('threeBit.txt') as f: lines = f.readlines()\n",
    "choices = [word[:-1] for word in lines]"
   ]
  },
  {
   "cell_type": "code",
   "execution_count": 14,
   "id": "67052843",
   "metadata": {},
   "outputs": [],
   "source": [
    "# returns the number of words posible for green and black\n",
    "\n",
    "# def numberIter (green, black):\n",
    "#     selected = 0\n",
    "#     black_list = list(black)\n",
    "#     green_list = list(green)\n",
    "#     for word in words:\n",
    "#         temp = 0\n",
    "\n",
    "#         for i in black_list:\n",
    "#             if i in word: temp = 1\n",
    "#         for i in range(len(green_list)):\n",
    "#             if green_list[i].isalpha():\n",
    "#                 if word.find(green_list[i])!= i: temp = 1\n",
    "                    \n",
    "#         if temp == 0: selected = selected+1\n",
    "# #     print(selected)\n",
    "#     return selected"
   ]
  },
  {
   "cell_type": "code",
   "execution_count": 26,
   "id": "a5a4ffa0",
   "metadata": {},
   "outputs": [],
   "source": [
    "# returns the number of words posible for green and black and yellow\n",
    "\n",
    "def possibleWordNumber(bigList, green, yel, black):\n",
    "    '''\n",
    "    The input is a big list, green, yel and black.\n",
    "    Take a empty smallList and then check for each and every words\n",
    "    in the biglist if they meet the conditions of green, yel, black.\n",
    "    \n",
    "    Words are appended in the smallList and the length is returned.\n",
    "    '''\n",
    "    black_list = list(black)\n",
    "    green_list = list(green)\n",
    "    yellow_list = list(yel)\n",
    "    smallList= []\n",
    "    for word in bigList:\n",
    "        temp = 0\n",
    "        for i in black_list:\n",
    "            if i in word: temp = 1\n",
    "        for i in range(len(green_list)):\n",
    "            if green_list[i].isalpha():\n",
    "                if word.find(green_list[i])!= i: temp = 1\n",
    "        for i in range(len(yellow_list)):\n",
    "            if yellow_list[i].isalpha():\n",
    "                if word.find(yellow_list[i]) in [i, -1]: temp = 1\n",
    "        \n",
    "        if temp == 0: smallList.append(word)\n",
    "    return len(smallList)"
   ]
  },
  {
   "cell_type": "code",
   "execution_count": 27,
   "id": "964db94e",
   "metadata": {},
   "outputs": [],
   "source": [
    "# returns expected value for each iterations, not summation\n",
    "\n",
    "def exval(x, y):\n",
    "    if(x): return (x/y)*lg((y/x), 2)\n",
    "    else: return 0\n",
    "    \n",
    "def bitInformation(x, y):\n",
    "    if(x): return lg((y/x), 2)\n",
    "    else: return 0"
   ]
  },
  {
   "cell_type": "code",
   "execution_count": 17,
   "id": "9c5fc7b0",
   "metadata": {},
   "outputs": [],
   "source": [
    "# def greenBlack(intNum, testword):\n",
    "#     choice = choices[intNum]\n",
    "#     testletters = list(testword)\n",
    "#     green= ''\n",
    "#     black = ''\n",
    "#     for i in range(5):\n",
    "#         if(int(choice[i])==0):\n",
    "#             green = green + '-'\n",
    "#             black = black + testletters[i]\n",
    "#         else:\n",
    "#             green = green + testletters[i]\n",
    "#             black = black + '-'  \n",
    "            \n",
    "#     return green, black"
   ]
  },
  {
   "cell_type": "code",
   "execution_count": 28,
   "id": "083967b0",
   "metadata": {},
   "outputs": [],
   "source": [
    "# returns the green, yellow, black combinations of a certain selected word\n",
    "\n",
    "def greenYelBlack(intNum, testword):\n",
    "    choice = choices[intNum]\n",
    "    testletters = list(testword)\n",
    "    green= ''\n",
    "    black = ''\n",
    "    yel = ''\n",
    "    for i in range(5):\n",
    "        if(int(choice[i])==2):\n",
    "            green = green + testletters[i]\n",
    "            black = black + '-'\n",
    "            yel = yel + '-'\n",
    "        elif(int(choice[i])==1):\n",
    "            green = green + '-'\n",
    "            black = black + '-'\n",
    "            yel = yel + testletters[i]    \n",
    "        else:\n",
    "            green = green + '-'\n",
    "            black = black + testletters[i]\n",
    "            yel = yel + '-'\n",
    "            \n",
    "    return green, yel, black"
   ]
  },
  {
   "cell_type": "code",
   "execution_count": 29,
   "id": "d1e5ac91",
   "metadata": {},
   "outputs": [],
   "source": [
    "# returns the cummiliative expected value from all the green, yellow, black combinations of a word\n",
    "\n",
    "def expectedValue(subject, onWhomList):\n",
    "    value = 0\n",
    "    for i in range(243):\n",
    "        [green, yel, black] = greenYelBlack(i, subject)\n",
    "        smallval = exval(possibleWordNumber(onWhomList, green, yel, black), len(onWhomList))\n",
    "        value = value + smallval\n",
    "    \n",
    "    return value"
   ]
  },
  {
   "cell_type": "code",
   "execution_count": 30,
   "id": "eb58d1a2",
   "metadata": {},
   "outputs": [
    {
     "name": "stderr",
     "output_type": "stream",
     "text": [
      "  0%|                                                                             | 3/12972 [00:14<17:32:09,  4.87s/it]\n"
     ]
    },
    {
     "ename": "KeyboardInterrupt",
     "evalue": "",
     "output_type": "error",
     "traceback": [
      "\u001b[1;31m---------------------------------------------------------------------------\u001b[0m",
      "\u001b[1;31mKeyboardInterrupt\u001b[0m                         Traceback (most recent call last)",
      "\u001b[1;32m~\\AppData\\Local\\Temp/ipykernel_17180/480008692.py\u001b[0m in \u001b[0;36m<module>\u001b[1;34m\u001b[0m\n\u001b[0;32m      3\u001b[0m \u001b[0mdicty\u001b[0m \u001b[1;33m=\u001b[0m \u001b[1;33m{\u001b[0m\u001b[1;33m}\u001b[0m\u001b[1;33m\u001b[0m\u001b[1;33m\u001b[0m\u001b[0m\n\u001b[0;32m      4\u001b[0m \u001b[1;32mfor\u001b[0m \u001b[0mword\u001b[0m \u001b[1;32min\u001b[0m \u001b[0mtqdm\u001b[0m\u001b[1;33m(\u001b[0m\u001b[0mwords\u001b[0m\u001b[1;33m)\u001b[0m\u001b[1;33m:\u001b[0m\u001b[1;33m\u001b[0m\u001b[1;33m\u001b[0m\u001b[0m\n\u001b[1;32m----> 5\u001b[1;33m     \u001b[0mtempValue\u001b[0m \u001b[1;33m=\u001b[0m \u001b[0mexpectedValue\u001b[0m\u001b[1;33m(\u001b[0m\u001b[0mword\u001b[0m\u001b[1;33m,\u001b[0m \u001b[0mwords\u001b[0m\u001b[1;33m)\u001b[0m\u001b[1;33m\u001b[0m\u001b[1;33m\u001b[0m\u001b[0m\n\u001b[0m\u001b[0;32m      6\u001b[0m     \u001b[0mdicty\u001b[0m\u001b[1;33m[\u001b[0m\u001b[0mword\u001b[0m\u001b[1;33m]\u001b[0m \u001b[1;33m=\u001b[0m \u001b[0mtempValue\u001b[0m\u001b[1;33m\u001b[0m\u001b[1;33m\u001b[0m\u001b[0m\n\u001b[0;32m      7\u001b[0m     \u001b[0mdf\u001b[0m\u001b[1;33m=\u001b[0m\u001b[0mopen\u001b[0m\u001b[1;33m(\u001b[0m\u001b[1;34m'greenYelBlack_ExpectedValue.txt'\u001b[0m\u001b[1;33m,\u001b[0m\u001b[1;34m'a'\u001b[0m\u001b[1;33m)\u001b[0m\u001b[1;33m\u001b[0m\u001b[1;33m\u001b[0m\u001b[0m\n",
      "\u001b[1;32m~\\AppData\\Local\\Temp/ipykernel_17180/168896410.py\u001b[0m in \u001b[0;36mexpectedValue\u001b[1;34m(subject, onWhomList)\u001b[0m\n\u001b[0;32m      5\u001b[0m     \u001b[1;32mfor\u001b[0m \u001b[0mi\u001b[0m \u001b[1;32min\u001b[0m \u001b[0mrange\u001b[0m\u001b[1;33m(\u001b[0m\u001b[1;36m243\u001b[0m\u001b[1;33m)\u001b[0m\u001b[1;33m:\u001b[0m\u001b[1;33m\u001b[0m\u001b[1;33m\u001b[0m\u001b[0m\n\u001b[0;32m      6\u001b[0m         \u001b[1;33m[\u001b[0m\u001b[0mgreen\u001b[0m\u001b[1;33m,\u001b[0m \u001b[0myel\u001b[0m\u001b[1;33m,\u001b[0m \u001b[0mblack\u001b[0m\u001b[1;33m]\u001b[0m \u001b[1;33m=\u001b[0m \u001b[0mgreenYelBlack\u001b[0m\u001b[1;33m(\u001b[0m\u001b[0mi\u001b[0m\u001b[1;33m,\u001b[0m \u001b[0msubject\u001b[0m\u001b[1;33m)\u001b[0m\u001b[1;33m\u001b[0m\u001b[1;33m\u001b[0m\u001b[0m\n\u001b[1;32m----> 7\u001b[1;33m         \u001b[0msmallval\u001b[0m \u001b[1;33m=\u001b[0m \u001b[0mexval\u001b[0m\u001b[1;33m(\u001b[0m\u001b[0mpossibleWordNumber\u001b[0m\u001b[1;33m(\u001b[0m\u001b[0monWhomList\u001b[0m\u001b[1;33m,\u001b[0m \u001b[0mgreen\u001b[0m\u001b[1;33m,\u001b[0m \u001b[0myel\u001b[0m\u001b[1;33m,\u001b[0m \u001b[0mblack\u001b[0m\u001b[1;33m)\u001b[0m\u001b[1;33m,\u001b[0m \u001b[0mlen\u001b[0m\u001b[1;33m(\u001b[0m\u001b[0monWhomList\u001b[0m\u001b[1;33m)\u001b[0m\u001b[1;33m)\u001b[0m\u001b[1;33m\u001b[0m\u001b[1;33m\u001b[0m\u001b[0m\n\u001b[0m\u001b[0;32m      8\u001b[0m         \u001b[0mvalue\u001b[0m \u001b[1;33m=\u001b[0m \u001b[0mvalue\u001b[0m \u001b[1;33m+\u001b[0m \u001b[0msmallval\u001b[0m\u001b[1;33m\u001b[0m\u001b[1;33m\u001b[0m\u001b[0m\n\u001b[0;32m      9\u001b[0m \u001b[1;33m\u001b[0m\u001b[0m\n",
      "\u001b[1;32m~\\AppData\\Local\\Temp/ipykernel_17180/3450014289.py\u001b[0m in \u001b[0;36mpossibleWordNumber\u001b[1;34m(bigList, green, yel, black)\u001b[0m\n\u001b[0;32m     15\u001b[0m     \u001b[1;32mfor\u001b[0m \u001b[0mword\u001b[0m \u001b[1;32min\u001b[0m \u001b[0mbigList\u001b[0m\u001b[1;33m:\u001b[0m\u001b[1;33m\u001b[0m\u001b[1;33m\u001b[0m\u001b[0m\n\u001b[0;32m     16\u001b[0m         \u001b[0mtemp\u001b[0m \u001b[1;33m=\u001b[0m \u001b[1;36m0\u001b[0m\u001b[1;33m\u001b[0m\u001b[1;33m\u001b[0m\u001b[0m\n\u001b[1;32m---> 17\u001b[1;33m         \u001b[1;32mfor\u001b[0m \u001b[0mi\u001b[0m \u001b[1;32min\u001b[0m \u001b[0mblack_list\u001b[0m\u001b[1;33m:\u001b[0m\u001b[1;33m\u001b[0m\u001b[1;33m\u001b[0m\u001b[0m\n\u001b[0m\u001b[0;32m     18\u001b[0m             \u001b[1;32mif\u001b[0m \u001b[0mi\u001b[0m \u001b[1;32min\u001b[0m \u001b[0mword\u001b[0m\u001b[1;33m:\u001b[0m \u001b[0mtemp\u001b[0m \u001b[1;33m=\u001b[0m \u001b[1;36m1\u001b[0m\u001b[1;33m\u001b[0m\u001b[1;33m\u001b[0m\u001b[0m\n\u001b[0;32m     19\u001b[0m         \u001b[1;32mfor\u001b[0m \u001b[0mi\u001b[0m \u001b[1;32min\u001b[0m \u001b[0mrange\u001b[0m\u001b[1;33m(\u001b[0m\u001b[0mlen\u001b[0m\u001b[1;33m(\u001b[0m\u001b[0mgreen_list\u001b[0m\u001b[1;33m)\u001b[0m\u001b[1;33m)\u001b[0m\u001b[1;33m:\u001b[0m\u001b[1;33m\u001b[0m\u001b[1;33m\u001b[0m\u001b[0m\n",
      "\u001b[1;31mKeyboardInterrupt\u001b[0m: "
     ]
    }
   ],
   "source": [
    "# all the words are tested and expected value are calculated, printed in a txt file and also put in a dictionary\n",
    "\n",
    "dicty = {}\n",
    "for word in tqdm(words):\n",
    "    tempValue = expectedValue(word, words)\n",
    "    dicty[word] = tempValue\n",
    "    df=open('greenYelBlack_ExpectedValue.txt','a')\n",
    "    df.write(word)\n",
    "    df.write('\\t')\n",
    "    df.write(str(tempValue))\n",
    "    df.write('\\n')\n",
    "    df.close()"
   ]
  },
  {
   "cell_type": "code",
   "execution_count": null,
   "id": "66a0b652",
   "metadata": {},
   "outputs": [],
   "source": [
    "## Trial run with a word"
   ]
  },
  {
   "cell_type": "code",
   "execution_count": null,
   "id": "20d9030a",
   "metadata": {},
   "outputs": [],
   "source": [
    "# expectedValue('lares')"
   ]
  },
  {
   "cell_type": "code",
   "execution_count": 3,
   "id": "298654ca",
   "metadata": {},
   "outputs": [],
   "source": [
    "# the dictionary is sorted in descending order of expected value\n",
    "\n",
    "sortedDict = dict(sorted(dicty.items(), key=lambda x: x[1], reverse= True))"
   ]
  },
  {
   "cell_type": "code",
   "execution_count": 6,
   "id": "53788a9b",
   "metadata": {},
   "outputs": [],
   "source": [
    "# printed in a json file \n",
    "\n",
    "with open(\"greenYelBlack_ExpectedValue.json\", \"w\") as outfile:\n",
    "    json.dump(sortedDict, outfile)"
   ]
  },
  {
   "cell_type": "code",
   "execution_count": 7,
   "id": "65ca1d5b",
   "metadata": {},
   "outputs": [],
   "source": [
    "# printed in a csv file\n",
    "\n",
    "sorted_df = pd.DataFrame.from_dict(sortedDict.items())\n",
    "sorted_df.to_csv('greenYelBlack_ExpectedValue.csv')"
   ]
  },
  {
   "cell_type": "code",
   "execution_count": null,
   "id": "91d7454d",
   "metadata": {},
   "outputs": [],
   "source": [
    "# prints the iteration combination 00001 or like 01101 in a txt file\n",
    "\n",
    "# dff=open('threeBit.txt','w')\n",
    "# option = 3\n",
    "# leng = 5\n",
    "\n",
    "# for i in range(option**leng):\n",
    "#     strr = ''\n",
    "#     for j in range(5):\n",
    "#         strr = strr + str(i%option)\n",
    "#         i = i//option\n",
    "#     strr = strr[::-1]\n",
    "#     dff.write(strr)\n",
    "#     dff.write('\\n')\n",
    "#     # print(strr)\n",
    "    \n",
    "# dff.close()"
   ]
  },
  {
   "cell_type": "code",
   "execution_count": 9,
   "id": "4270906c",
   "metadata": {},
   "outputs": [],
   "source": [
    "# sortedDict"
   ]
  },
  {
   "cell_type": "code",
   "execution_count": 10,
   "id": "48b2c039",
   "metadata": {},
   "outputs": [],
   "source": [
    "# generates the dictionary from a text file\n",
    "\n",
    "# with open('greenYelBlack_ExpectedValue.txt') as f:\n",
    "#     lines = f.readlines()\n",
    "\n",
    "# dicty = {}\n",
    "# for line in lines:\n",
    "#     [word, exVal] = line.split('\\t')\n",
    "#     dicty[word] = float(exVal[:-2])"
   ]
  },
  {
   "cell_type": "code",
   "execution_count": 22,
   "id": "89cb0b19",
   "metadata": {},
   "outputs": [
    {
     "data": {
      "text/plain": [
       "4.4223219762938495"
      ]
     },
     "execution_count": 22,
     "metadata": {},
     "output_type": "execute_result"
    }
   ],
   "source": [
    "[green, yel, black] = greenYelBlack(90, 'slate')\n",
    "smallval = exval(numberIter(green, yel, black), totalWordCount)\n",
    "smallval"
   ]
  },
  {
   "cell_type": "code",
   "execution_count": null,
   "id": "edfe8a8c",
   "metadata": {},
   "outputs": [],
   "source": []
  }
 ],
 "metadata": {
  "kernelspec": {
   "display_name": "tf",
   "language": "python",
   "name": "tf"
  },
  "language_info": {
   "codemirror_mode": {
    "name": "ipython",
    "version": 3
   },
   "file_extension": ".py",
   "mimetype": "text/x-python",
   "name": "python",
   "nbconvert_exporter": "python",
   "pygments_lexer": "ipython3",
   "version": "3.9.6"
  }
 },
 "nbformat": 4,
 "nbformat_minor": 5
}
