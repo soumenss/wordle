{
 "cells": [
  {
   "cell_type": "code",
   "execution_count": null,
   "id": "a78ff59a",
   "metadata": {},
   "outputs": [],
   "source": [
    "# importing necessary modules\n",
    "\n",
    "import pandas as pd\n",
    "import numpy as np\n",
    "from math import log as lg\n",
    "from tqdm import tqdm\n",
    "import json\n",
    "\n",
    "\n",
    "\n",
    "# import all the five lettered words and keeping them in a list 'words', total number is 'totalWordCount'\n",
    "\n",
    "with open('5_words_La.txt') as f: lines = f.readlines()\n",
    "words = [word[:-1] for word in lines]\n",
    "\n",
    "totalWordCount = len(words)\n",
    "\n",
    "\n",
    "\n",
    "# importing the iteration choices, twoBit for only Green Black, threeBit for Green, Black, Yellow\n",
    "# choices are kept in 'choices' list\n",
    "\n",
    "with open('threeBit.txt') as f: lines = f.readlines()\n",
    "choices = [word[:-1] for word in lines]\n",
    "\n",
    "\n",
    "\n",
    "\n",
    "# all the words are tested and expected value are calculated, printed in a txt file and also put in a dictionary\n",
    "\n",
    "dicty = {}\n",
    "for word in tqdm(words):\n",
    "    dicty[word] = expectedValue(word)\n",
    "    \n",
    "    \n",
    "    \n",
    "    \n",
    "    \n",
    "    df=open('greenYelBlack_ExpectedValue.txt','a')\n",
    "    df.write(word)\n",
    "    df.write('\\t')\n",
    "    df.write(str(expectedValue(word)))\n",
    "    df.write('\\n')\n",
    "    df.close()"
   ]
  }
 ],
 "metadata": {
  "kernelspec": {
   "display_name": "tf",
   "language": "python",
   "name": "tf"
  },
  "language_info": {
   "codemirror_mode": {
    "name": "ipython",
    "version": 3
   },
   "file_extension": ".py",
   "mimetype": "text/x-python",
   "name": "python",
   "nbconvert_exporter": "python",
   "pygments_lexer": "ipython3",
   "version": "3.9.6"
  }
 },
 "nbformat": 4,
 "nbformat_minor": 5
}
