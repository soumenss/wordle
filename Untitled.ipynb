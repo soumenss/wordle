{
 "cells": [
  {
   "cell_type": "code",
   "execution_count": 5,
   "id": "d0851502",
   "metadata": {},
   "outputs": [],
   "source": [
    "# importing necessary modules\n",
    "\n",
    "import pandas as pd\n",
    "import numpy as np\n",
    "from math import log as lg\n",
    "from tqdm import tqdm\n",
    "import json"
   ]
  },
  {
   "cell_type": "code",
   "execution_count": 2,
   "id": "2e97c0e4",
   "metadata": {},
   "outputs": [],
   "source": [
    "# import all the five lettered words and keeping them in a list 'words', total number is 'totalWordCount'\n",
    "\n",
    "with open('5_words_LaTa.txt') as f: lines = f.readlines()\n",
    "words = [word[:-1] for word in lines]\n",
    "\n",
    "totalWordCount = len(words)"
   ]
  },
  {
   "cell_type": "code",
   "execution_count": 3,
   "id": "82f142ab",
   "metadata": {},
   "outputs": [],
   "source": [
    "# importing the iteration choices, twoBit for only Green Black, threeBit for Green, Black, Yellow\n",
    "# choices are kept in 'choices' list\n",
    "\n",
    "with open('threeBit.txt') as f: lines = f.readlines()\n",
    "choices = [word[:-1] for word in lines]"
   ]
  },
  {
   "cell_type": "code",
   "execution_count": 4,
   "id": "67052843",
   "metadata": {},
   "outputs": [],
   "source": [
    "# returns the number of words posible for green and black\n",
    "\n",
    "# def numberIter (green, black):\n",
    "#     selected = 0\n",
    "#     black_list = list(black)\n",
    "#     green_list = list(green)\n",
    "#     for word in words:\n",
    "#         temp = 0\n",
    "\n",
    "#         for i in black_list:\n",
    "#             if i in word: temp = 1\n",
    "#         for i in range(len(green_list)):\n",
    "#             if green_list[i].isalpha():\n",
    "#                 if word.find(green_list[i])!= i: temp = 1\n",
    "                    \n",
    "#         if temp == 0: selected = selected+1\n",
    "# #     print(selected)\n",
    "#     return selected"
   ]
  },
  {
   "cell_type": "code",
   "execution_count": 4,
   "id": "a5a4ffa0",
   "metadata": {},
   "outputs": [],
   "source": [
    "# returns the number of words posible for green and black and yellow\n",
    "\n",
    "def numberIter (green, yel, black):\n",
    "    selected = 0\n",
    "    black_list = list(black)\n",
    "    green_list = list(green)\n",
    "    yellow_list = list(yel)\n",
    "    for word in words:\n",
    "        temp = 0\n",
    "\n",
    "        for i in black_list:\n",
    "            if i in word: temp = 1\n",
    "        for i in range(len(green_list)):\n",
    "            if green_list[i].isalpha():\n",
    "                if word.find(green_list[i])!= i: temp = 1\n",
    "        for i in range(len(yellow_list)):\n",
    "            if yellow_list[i].isalpha():\n",
    "                \n",
    "                if word.find(yellow_list[i]) in [i, -1]: temp = 1    \n",
    "        if temp == 0: selected = selected+1\n",
    "#     print(selected)\n",
    "    return selected"
   ]
  },
  {
   "cell_type": "code",
   "execution_count": 5,
   "id": "964db94e",
   "metadata": {},
   "outputs": [],
   "source": [
    "# returns expected value for each iterations, not summation\n",
    "\n",
    "def exval(x, y):\n",
    "#     print(x/y)\n",
    "    if(x):\n",
    "        return (x/y)*lg((y/x), 2)\n",
    "#         print(lg((y/x), 2))\n",
    "    else: return 0"
   ]
  },
  {
   "cell_type": "code",
   "execution_count": 7,
   "id": "9c5fc7b0",
   "metadata": {},
   "outputs": [],
   "source": [
    "# def greenBlack(intNum, testword):\n",
    "#     choice = choices[intNum]\n",
    "#     testletters = list(testword)\n",
    "#     green= ''\n",
    "#     black = ''\n",
    "#     for i in range(5):\n",
    "#         if(int(choice[i])==0):\n",
    "#             green = green + '-'\n",
    "#             black = black + testletters[i]\n",
    "#         else:\n",
    "#             green = green + testletters[i]\n",
    "#             black = black + '-'  \n",
    "            \n",
    "#     return green, black"
   ]
  },
  {
   "cell_type": "code",
   "execution_count": 6,
   "id": "083967b0",
   "metadata": {},
   "outputs": [],
   "source": [
    "# returns the green, yellow, black combinations of a certain selected word\n",
    "\n",
    "def greenYelBlack(intNum, testword):\n",
    "    choice = choices[intNum]\n",
    "    testletters = list(testword)\n",
    "    green= ''\n",
    "    black = ''\n",
    "    yel = ''\n",
    "    for i in range(5):\n",
    "        if(int(choice[i])==2):\n",
    "            green = green + testletters[i]\n",
    "            black = black + '-'\n",
    "            yel = yel + '-'\n",
    "        elif(int(choice[i])==1):\n",
    "            green = green + '-'\n",
    "            black = black + '-'\n",
    "            yel = yel + testletters[i]    \n",
    "        else:\n",
    "            green = green + '-'\n",
    "            black = black + testletters[i]\n",
    "            yel = yel + '-'\n",
    "            \n",
    "    return green, yel, black"
   ]
  },
  {
   "cell_type": "code",
   "execution_count": 7,
   "id": "d1e5ac91",
   "metadata": {},
   "outputs": [],
   "source": [
    "# returns the cummiliative expected value from all the green, yellow, black combinations of a word\n",
    "\n",
    "def expectedValue(subject):\n",
    "    value = 0\n",
    "    for i in range(243):\n",
    "        [green, yel, black] = greenYelBlack(i, subject)\n",
    "        smallval = exval(numberIter(green, yel, black), totalWordCount)\n",
    "        value = value + smallval\n",
    "#         print(smallval)\n",
    "    return value"
   ]
  },
  {
   "cell_type": "code",
   "execution_count": null,
   "id": "eb58d1a2",
   "metadata": {},
   "outputs": [
    {
     "name": "stderr",
     "output_type": "stream",
     "text": [
      " 63%|████████████████████████████████████████████▉                          | 8208/12972 [18:52:12<10:55:45,  8.26s/it]"
     ]
    }
   ],
   "source": [
    "# all the words are tested and expected value are calculated, printed in a txt file and also put in a dictionary\n",
    "\n",
    "dicty = {}\n",
    "for word in tqdm(words):\n",
    "    tempValue = expectedValue(word)\n",
    "    dicty[word] = tempValue\n",
    "    df=open('greenYelBlack_ExpectedValue.txt','a')\n",
    "    df.write(word)\n",
    "    df.write('\\t')\n",
    "    df.write(str(tempValue))\n",
    "    df.write('\\n')\n",
    "    df.close()"
   ]
  },
  {
   "cell_type": "code",
   "execution_count": null,
   "id": "66a0b652",
   "metadata": {},
   "outputs": [],
   "source": [
    "## Trial run with a word"
   ]
  },
  {
   "cell_type": "code",
   "execution_count": null,
   "id": "20d9030a",
   "metadata": {},
   "outputs": [],
   "source": [
    "# expectedValue('lares')"
   ]
  },
  {
   "cell_type": "code",
   "execution_count": 3,
   "id": "298654ca",
   "metadata": {},
   "outputs": [],
   "source": [
    "# the dictionary is sorted in descending order of expected value\n",
    "\n",
    "sortedDict = dict(sorted(dicty.items(), key=lambda x: x[1], reverse= True))"
   ]
  },
  {
   "cell_type": "code",
   "execution_count": 6,
   "id": "53788a9b",
   "metadata": {},
   "outputs": [],
   "source": [
    "# printed in a json file \n",
    "\n",
    "with open(\"greenYelBlack_ExpectedValue.json\", \"w\") as outfile:\n",
    "    json.dump(sortedDict, outfile)"
   ]
  },
  {
   "cell_type": "code",
   "execution_count": 7,
   "id": "65ca1d5b",
   "metadata": {},
   "outputs": [],
   "source": [
    "# printed in a csv file\n",
    "\n",
    "sorted_df = pd.DataFrame.from_dict(sortedDict.items())\n",
    "sorted_df.to_csv('greenYelBlack_ExpectedValue.csv')"
   ]
  },
  {
   "cell_type": "code",
   "execution_count": null,
   "id": "91d7454d",
   "metadata": {},
   "outputs": [],
   "source": [
    "# prints the iteration combination 00001 or like 01101 in a txt file\n",
    "\n",
    "# dff=open('threeBit.txt','w')\n",
    "# option = 3\n",
    "# leng = 5\n",
    "\n",
    "# for i in range(option**leng):\n",
    "#     strr = ''\n",
    "#     for j in range(5):\n",
    "#         strr = strr + str(i%option)\n",
    "#         i = i//option\n",
    "#     strr = strr[::-1]\n",
    "#     dff.write(strr)\n",
    "#     dff.write('\\n')\n",
    "#     # print(strr)\n",
    "    \n",
    "# dff.close()"
   ]
  },
  {
   "cell_type": "code",
   "execution_count": 9,
   "id": "4270906c",
   "metadata": {},
   "outputs": [],
   "source": [
    "# sortedDict"
   ]
  },
  {
   "cell_type": "code",
   "execution_count": 10,
   "id": "48b2c039",
   "metadata": {},
   "outputs": [],
   "source": [
    "# generates the dictionary from a text file\n",
    "\n",
    "# with open('greenYelBlack_ExpectedValue.txt') as f:\n",
    "#     lines = f.readlines()\n",
    "\n",
    "# dicty = {}\n",
    "# for line in lines:\n",
    "#     [word, exVal] = line.split('\\t')\n",
    "#     dicty[word] = float(exVal[:-2])"
   ]
  },
  {
   "cell_type": "code",
   "execution_count": null,
   "id": "89cb0b19",
   "metadata": {},
   "outputs": [],
   "source": []
  }
 ],
 "metadata": {
  "kernelspec": {
   "display_name": "tf",
   "language": "python",
   "name": "tf"
  },
  "language_info": {
   "codemirror_mode": {
    "name": "ipython",
    "version": 3
   },
   "file_extension": ".py",
   "mimetype": "text/x-python",
   "name": "python",
   "nbconvert_exporter": "python",
   "pygments_lexer": "ipython3",
   "version": "3.9.6"
  }
 },
 "nbformat": 4,
 "nbformat_minor": 5
}
