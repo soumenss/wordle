{
 "cells": [
  {
   "cell_type": "code",
   "execution_count": null,
   "id": "83ce0a4d",
   "metadata": {},
   "outputs": [],
   "source": [
    "path = 'words_alpha.txt'"
   ]
  },
  {
   "cell_type": "code",
   "execution_count": 62,
   "id": "43e64e5f",
   "metadata": {},
   "outputs": [],
   "source": [
    "with open(path) as f:\n",
    "    lines = f.readlines()\n",
    "    print(len(lines))\n",
    "    \n",
    "    \n",
    "words = [word[:-1] for word in lines]"
   ]
  },
  {
   "cell_type": "code",
   "execution_count": 63,
   "id": "9cfe1111",
   "metadata": {},
   "outputs": [
    {
     "name": "stdout",
     "output_type": "stream",
     "text": [
      "370103\n"
     ]
    }
   ],
   "source": [
    "new_dict = {}\n",
    "\n",
    "for word in words:\n",
    "    if len(word) in new_dict.keys():\n",
    "        new_dict[len(word)].append(word)\n",
    "    else:\n",
    "        new_dict[len(word)] = [word]\n",
    "        \n",
    "for number in new_dict.keys():\n",
    "    textfile = open(str(number) + \"_words.txt\", \"w\")\n",
    "    for element in new_dict[number]:\n",
    "        textfile.write(element + \"\\n\")\n",
    "    textfile.close()"
   ]
  }
 ],
 "metadata": {
  "kernelspec": {
   "display_name": "tf",
   "language": "python",
   "name": "tf"
  },
  "language_info": {
   "codemirror_mode": {
    "name": "ipython",
    "version": 3
   },
   "file_extension": ".py",
   "mimetype": "text/x-python",
   "name": "python",
   "nbconvert_exporter": "python",
   "pygments_lexer": "ipython3",
   "version": "3.9.6"
  }
 },
 "nbformat": 4,
 "nbformat_minor": 5
}
