{
 "cells": [
  {
   "cell_type": "code",
   "execution_count": 6,
   "id": "3e240f5d",
   "metadata": {},
   "outputs": [],
   "source": [
    "def checkWordle(guess, real):\n",
    "    gList = list(guess)\n",
    "    rList = list(real)\n",
    "    \n",
    "    colPal = ''\n",
    "    letterCount = 0\n",
    "    for gLetter in gList:\n",
    "        if gLetter not in rList: colPal = colPal + 'B'\n",
    "        else:\n",
    "            if real.find(gLetter)== letterCount: colPal = colPal + 'G'\n",
    "            else: colPal = colPal + 'Y'\n",
    "        letterCount = letterCount + 1\n",
    "        \n",
    "    return colPal"
   ]
  },
  {
   "cell_type": "code",
   "execution_count": 7,
   "id": "911061d1",
   "metadata": {},
   "outputs": [
    {
     "data": {
      "text/plain": [
       "'YBGBB'"
      ]
     },
     "execution_count": 7,
     "metadata": {},
     "output_type": "execute_result"
    }
   ],
   "source": [
    "guess = 'crane'\n",
    "real = 'black'\n",
    "\n",
    "checkWordle(guess, real)"
   ]
  },
  {
   "cell_type": "code",
   "execution_count": 13,
   "id": "d3d89bd7",
   "metadata": {},
   "outputs": [],
   "source": [
    "def GYBfromColPal(guess, colPal):\n",
    "    green = ''\n",
    "    yel = ''\n",
    "    black = ''\n",
    "    \n",
    "    gList = list(guess)\n",
    "    colList = list(colPal)\n",
    "    \n",
    "    if len(gList)!= len(colList): print('The length is not same!!')\n",
    "        \n",
    "    else:\n",
    "        for i in range(len(gList)):\n",
    "            if colList[i] == 'B':\n",
    "                black = black + gList[i]\n",
    "                yel = yel + '-'\n",
    "                green = green + '-'\n",
    "            elif colList[i] == 'Y':\n",
    "                black = black + '-'\n",
    "                yel = yel + gList[i]\n",
    "                green = green + '-'\n",
    "            elif colList[i] == 'G':\n",
    "                black = black + '-'\n",
    "                yel = yel + '-'\n",
    "                green = green + gList[i]\n",
    "        return green, yel, black"
   ]
  },
  {
   "cell_type": "code",
   "execution_count": 20,
   "id": "dcb58208",
   "metadata": {},
   "outputs": [
    {
     "name": "stdout",
     "output_type": "stream",
     "text": [
      "--a--\n",
      "c----\n",
      "-r-ne\n"
     ]
    }
   ],
   "source": [
    "[green, yel, black] = GYBfromGuessReal('crane', 'black')\n",
    "print(green)\n",
    "print(yel)\n",
    "print(black)"
   ]
  },
  {
   "cell_type": "code",
   "execution_count": 19,
   "id": "b8233e07",
   "metadata": {},
   "outputs": [],
   "source": [
    "def GYBfromGuessReal(guess, real):\n",
    "    gList = list(guess)\n",
    "    rList = list(real)\n",
    "    \n",
    "    green = ''\n",
    "    yel = ''\n",
    "    black = ''\n",
    "    letterCount = 0\n",
    "    \n",
    "    for gLetter in gList:\n",
    "        if gLetter not in rList:\n",
    "            black = black + gLetter\n",
    "            yel = yel + '-'\n",
    "            green = green + '-'\n",
    "        else:\n",
    "            if real.find(gLetter)== letterCount:\n",
    "                black = black + '-'\n",
    "                yel = yel + '-'\n",
    "                green = green + gLetter\n",
    "            else:\n",
    "                black = black + '-'\n",
    "                yel = yel + gLetter\n",
    "                green = green + '-'\n",
    "                \n",
    "        letterCount = letterCount + 1\n",
    "        \n",
    "    return green, yel, black"
   ]
  },
  {
   "cell_type": "code",
   "execution_count": null,
   "id": "6fefa098",
   "metadata": {},
   "outputs": [],
   "source": []
  }
 ],
 "metadata": {
  "kernelspec": {
   "display_name": "tf",
   "language": "python",
   "name": "tf"
  },
  "language_info": {
   "codemirror_mode": {
    "name": "ipython",
    "version": 3
   },
   "file_extension": ".py",
   "mimetype": "text/x-python",
   "name": "python",
   "nbconvert_exporter": "python",
   "pygments_lexer": "ipython3",
   "version": "3.9.6"
  }
 },
 "nbformat": 4,
 "nbformat_minor": 5
}
