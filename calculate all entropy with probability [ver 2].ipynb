{
 "cells": [
  {
   "cell_type": "code",
   "execution_count": 1,
   "id": "d0851502",
   "metadata": {},
   "outputs": [],
   "source": [
    "# importing necessary modules\n",
    "\n",
    "import pandas as pd\n",
    "import numpy as np\n",
    "from math import log as lg\n",
    "from tqdm import tqdm\n",
    "import json"
   ]
  },
  {
   "cell_type": "code",
   "execution_count": 2,
   "id": "2e97c0e4",
   "metadata": {},
   "outputs": [],
   "source": [
    "# import all the five lettered words and keeping them in a list 'words', total number is 'totalWordCount'\n",
    "\n",
    "with open('5_words_LaTa.txt') as f: lines = f.readlines()\n",
    "words = [word[:-1] for word in lines]\n",
    "\n",
    "totalWordCount = len(words)"
   ]
  },
  {
   "cell_type": "code",
   "execution_count": 3,
   "id": "82f142ab",
   "metadata": {},
   "outputs": [],
   "source": [
    "# importing the iteration choices, twoBit for only Green Black, threeBit for Green, Black, Yellow\n",
    "# choices are kept in 'choices' list\n",
    "\n",
    "with open('threeBit.txt') as f: lines = f.readlines()\n",
    "choices = [word[:-1] for word in lines]"
   ]
  },
  {
   "cell_type": "code",
   "execution_count": 4,
   "id": "a5a4ffa0",
   "metadata": {},
   "outputs": [],
   "source": [
    "# returns the number of words posible for green and black and yellow\n",
    "\n",
    "def possibleWordList(bigList, green, yel, black):\n",
    "    '''\n",
    "    The input is a big list, green, yel and black.\n",
    "    Take a empty smallList and then check for each and every words\n",
    "    in the biglist if they meet the conditions of green, yel, black.\n",
    "    \n",
    "    Words are appended in the smallList and the list is returned.\n",
    "    '''\n",
    "    black_list = list(black)\n",
    "    green_list = list(green)\n",
    "    yellow_list = list(yel)\n",
    "    smallList= []\n",
    "    for word in bigList:\n",
    "        temp = 0\n",
    "        for i in black_list:\n",
    "            if i in word:\n",
    "                temp = 1\n",
    "                break\n",
    "        if temp == 0:\n",
    "            for i in range(len(green_list)):\n",
    "                if word.find(green_list[i])!= i and green_list[i].isalpha():\n",
    "                    temp = 1\n",
    "                    break\n",
    "        if temp == 0:\n",
    "            for i in range(len(yellow_list)):\n",
    "                if yellow_list[i].isalpha() and word.find(yellow_list[i]) in [i, -1]:\n",
    "                    temp = 1\n",
    "                    break\n",
    "        \n",
    "        if temp == 0: smallList.append(word)\n",
    "    return smallList"
   ]
  },
  {
   "cell_type": "code",
   "execution_count": 5,
   "id": "964db94e",
   "metadata": {},
   "outputs": [],
   "source": [
    "# returns expected value for each iterations, not summation\n",
    "\n",
    "def exval(x, y):\n",
    "    if(x): return (x/y)*lg((y/x), 2)\n",
    "    else: return 0\n",
    "    \n",
    "def bitInformation(x, y):\n",
    "    if(x): return lg((y/x), 2)\n",
    "    else: return 0"
   ]
  },
  {
   "cell_type": "code",
   "execution_count": 13,
   "id": "e0f7afff",
   "metadata": {},
   "outputs": [],
   "source": [
    "def exvalfromProb(probability):\n",
    "    if(probability): return (-1) * probability * lg(probability, 2)\n",
    "    else: return 0"
   ]
  },
  {
   "cell_type": "code",
   "execution_count": 7,
   "id": "083967b0",
   "metadata": {},
   "outputs": [],
   "source": [
    "# returns the green, yellow, black combinations of a certain selected word\n",
    "\n",
    "def greenYelBlack(intNum, testword):\n",
    "    choice = choices[intNum]\n",
    "    testletters = list(testword)\n",
    "    green= ''\n",
    "    black = ''\n",
    "    yel = ''\n",
    "    for i in range(5):\n",
    "        if(int(choice[i])==2):\n",
    "            green = green + testletters[i]\n",
    "            black = black + '-'\n",
    "            yel = yel + '-'\n",
    "        elif(int(choice[i])==1):\n",
    "            green = green + '-'\n",
    "            black = black + '-'\n",
    "            yel = yel + testletters[i]    \n",
    "        else:\n",
    "            green = green + '-'\n",
    "            black = black + testletters[i]\n",
    "            yel = yel + '-'\n",
    "            \n",
    "    return green, yel, black"
   ]
  },
  {
   "cell_type": "code",
   "execution_count": 11,
   "id": "76429e46",
   "metadata": {},
   "outputs": [],
   "source": [
    "def probabilityFromAllWords(suitableWordsList):\n",
    "    prob_dict = json.load(open('unigram/unigram_freq_lata_sorted_sigmoid_prob.json'))\n",
    "    allProbSum = 6486.499954602115 # sum(list(prob_dict.items()))\n",
    "    \n",
    "    selectedProbSum = 0\n",
    "    for word in suitableWordsList:\n",
    "        selectedProbSum = selectedProbSum + prob_dict[word]\n",
    "    \n",
    "    return selectedProbSum/allProbSum\n",
    "\n",
    "def probabilityFromSmallWordlist(suitableWordsList, searchableWordslist):\n",
    "    prob_dict = json.load(open('unigram/unigram_freq_lata_sorted_sigmoid_prob.json'))\n",
    "    allProbSum = 0\n",
    "    selectedProbSum = 0\n",
    "    for word in searchableWordslist:\n",
    "        allProbSum = allProbSum + prob_dict[word]\n",
    "    for word in suitableWordsList:\n",
    "        selectedProbSum = selectedProbSum + prob_dict[word]\n",
    "    \n",
    "    return selectedProbSum/allProbSum"
   ]
  },
  {
   "cell_type": "code",
   "execution_count": 9,
   "id": "d1e5ac91",
   "metadata": {},
   "outputs": [],
   "source": [
    "# returns the cummiliative expected value from all the green, yellow, black combinations of a word\n",
    "\n",
    "def expectedValue(subject, onWhomList):\n",
    "    value = 0\n",
    "    for i in range(243):\n",
    "        [green, yel, black] = greenYelBlack(i, subject)\n",
    "        smallval = exvalfromProb(probabilityFromAllWords(possibleWordList(onWhomList, green, yel, black)))\n",
    "        value = value + smallval\n",
    "    return value"
   ]
  },
  {
   "cell_type": "code",
   "execution_count": 14,
   "id": "eb58d1a2",
   "metadata": {},
   "outputs": [
    {
     "name": "stderr",
     "output_type": "stream",
     "text": [
      "  0%|                                                                            | 11/12972 [00:39<12:48:27,  3.56s/it]\n"
     ]
    },
    {
     "ename": "KeyboardInterrupt",
     "evalue": "",
     "output_type": "error",
     "traceback": [
      "\u001b[1;31m---------------------------------------------------------------------------\u001b[0m",
      "\u001b[1;31mKeyboardInterrupt\u001b[0m                         Traceback (most recent call last)",
      "\u001b[1;32m~\\AppData\\Local\\Temp/ipykernel_13748/480008692.py\u001b[0m in \u001b[0;36m<module>\u001b[1;34m\u001b[0m\n\u001b[0;32m      3\u001b[0m \u001b[0mdicty\u001b[0m \u001b[1;33m=\u001b[0m \u001b[1;33m{\u001b[0m\u001b[1;33m}\u001b[0m\u001b[1;33m\u001b[0m\u001b[1;33m\u001b[0m\u001b[0m\n\u001b[0;32m      4\u001b[0m \u001b[1;32mfor\u001b[0m \u001b[0mword\u001b[0m \u001b[1;32min\u001b[0m \u001b[0mtqdm\u001b[0m\u001b[1;33m(\u001b[0m\u001b[0mwords\u001b[0m\u001b[1;33m)\u001b[0m\u001b[1;33m:\u001b[0m\u001b[1;33m\u001b[0m\u001b[1;33m\u001b[0m\u001b[0m\n\u001b[1;32m----> 5\u001b[1;33m     \u001b[0mtempValue\u001b[0m \u001b[1;33m=\u001b[0m \u001b[0mexpectedValue\u001b[0m\u001b[1;33m(\u001b[0m\u001b[0mword\u001b[0m\u001b[1;33m,\u001b[0m \u001b[0mwords\u001b[0m\u001b[1;33m)\u001b[0m\u001b[1;33m\u001b[0m\u001b[1;33m\u001b[0m\u001b[0m\n\u001b[0m\u001b[0;32m      6\u001b[0m     \u001b[0mdicty\u001b[0m\u001b[1;33m[\u001b[0m\u001b[0mword\u001b[0m\u001b[1;33m]\u001b[0m \u001b[1;33m=\u001b[0m \u001b[0mtempValue\u001b[0m\u001b[1;33m\u001b[0m\u001b[1;33m\u001b[0m\u001b[0m\n\u001b[0;32m      7\u001b[0m     \u001b[0mdf\u001b[0m\u001b[1;33m=\u001b[0m\u001b[0mopen\u001b[0m\u001b[1;33m(\u001b[0m\u001b[1;34m'greenYelBlack_ExpectedValue.txt'\u001b[0m\u001b[1;33m,\u001b[0m\u001b[1;34m'a'\u001b[0m\u001b[1;33m)\u001b[0m\u001b[1;33m\u001b[0m\u001b[1;33m\u001b[0m\u001b[0m\n",
      "\u001b[1;32m~\\AppData\\Local\\Temp/ipykernel_13748/3141387.py\u001b[0m in \u001b[0;36mexpectedValue\u001b[1;34m(subject, onWhomList)\u001b[0m\n\u001b[0;32m      5\u001b[0m     \u001b[1;32mfor\u001b[0m \u001b[0mi\u001b[0m \u001b[1;32min\u001b[0m \u001b[0mrange\u001b[0m\u001b[1;33m(\u001b[0m\u001b[1;36m243\u001b[0m\u001b[1;33m)\u001b[0m\u001b[1;33m:\u001b[0m\u001b[1;33m\u001b[0m\u001b[1;33m\u001b[0m\u001b[0m\n\u001b[0;32m      6\u001b[0m         \u001b[1;33m[\u001b[0m\u001b[0mgreen\u001b[0m\u001b[1;33m,\u001b[0m \u001b[0myel\u001b[0m\u001b[1;33m,\u001b[0m \u001b[0mblack\u001b[0m\u001b[1;33m]\u001b[0m \u001b[1;33m=\u001b[0m \u001b[0mgreenYelBlack\u001b[0m\u001b[1;33m(\u001b[0m\u001b[0mi\u001b[0m\u001b[1;33m,\u001b[0m \u001b[0msubject\u001b[0m\u001b[1;33m)\u001b[0m\u001b[1;33m\u001b[0m\u001b[1;33m\u001b[0m\u001b[0m\n\u001b[1;32m----> 7\u001b[1;33m         \u001b[0msmallval\u001b[0m \u001b[1;33m=\u001b[0m \u001b[0mexvalfromProb\u001b[0m\u001b[1;33m(\u001b[0m\u001b[0mprobabilityFromAllWords\u001b[0m\u001b[1;33m(\u001b[0m\u001b[0mpossibleWordList\u001b[0m\u001b[1;33m(\u001b[0m\u001b[0monWhomList\u001b[0m\u001b[1;33m,\u001b[0m \u001b[0mgreen\u001b[0m\u001b[1;33m,\u001b[0m \u001b[0myel\u001b[0m\u001b[1;33m,\u001b[0m \u001b[0mblack\u001b[0m\u001b[1;33m)\u001b[0m\u001b[1;33m)\u001b[0m\u001b[1;33m)\u001b[0m\u001b[1;33m\u001b[0m\u001b[1;33m\u001b[0m\u001b[0m\n\u001b[0m\u001b[0;32m      8\u001b[0m         \u001b[0mvalue\u001b[0m \u001b[1;33m=\u001b[0m \u001b[0mvalue\u001b[0m \u001b[1;33m+\u001b[0m \u001b[0msmallval\u001b[0m\u001b[1;33m\u001b[0m\u001b[1;33m\u001b[0m\u001b[0m\n\u001b[0;32m      9\u001b[0m     \u001b[1;32mreturn\u001b[0m \u001b[0mvalue\u001b[0m\u001b[1;33m\u001b[0m\u001b[1;33m\u001b[0m\u001b[0m\n",
      "\u001b[1;32m~\\AppData\\Local\\Temp/ipykernel_13748/1455041343.py\u001b[0m in \u001b[0;36mprobabilityFromAllWords\u001b[1;34m(suitableWordsList)\u001b[0m\n\u001b[0;32m      1\u001b[0m \u001b[1;32mdef\u001b[0m \u001b[0mprobabilityFromAllWords\u001b[0m\u001b[1;33m(\u001b[0m\u001b[0msuitableWordsList\u001b[0m\u001b[1;33m)\u001b[0m\u001b[1;33m:\u001b[0m\u001b[1;33m\u001b[0m\u001b[1;33m\u001b[0m\u001b[0m\n\u001b[1;32m----> 2\u001b[1;33m     \u001b[0mprob_dict\u001b[0m \u001b[1;33m=\u001b[0m \u001b[0mjson\u001b[0m\u001b[1;33m.\u001b[0m\u001b[0mload\u001b[0m\u001b[1;33m(\u001b[0m\u001b[0mopen\u001b[0m\u001b[1;33m(\u001b[0m\u001b[1;34m'unigram/unigram_freq_lata_sorted_sigmoid_prob.json'\u001b[0m\u001b[1;33m)\u001b[0m\u001b[1;33m)\u001b[0m\u001b[1;33m\u001b[0m\u001b[1;33m\u001b[0m\u001b[0m\n\u001b[0m\u001b[0;32m      3\u001b[0m     \u001b[0mallProbSum\u001b[0m \u001b[1;33m=\u001b[0m \u001b[1;36m6486.499954602115\u001b[0m \u001b[1;31m# sum(list(prob_dict.items()))\u001b[0m\u001b[1;33m\u001b[0m\u001b[1;33m\u001b[0m\u001b[0m\n\u001b[0;32m      4\u001b[0m \u001b[1;33m\u001b[0m\u001b[0m\n\u001b[0;32m      5\u001b[0m     \u001b[0mselectedProbSum\u001b[0m \u001b[1;33m=\u001b[0m \u001b[1;36m0\u001b[0m\u001b[1;33m\u001b[0m\u001b[1;33m\u001b[0m\u001b[0m\n",
      "\u001b[1;31mKeyboardInterrupt\u001b[0m: "
     ]
    }
   ],
   "source": [
    "# all the words are tested and expected value are calculated, printed in a txt file and also put in a dictionary\n",
    "\n",
    "dicty = {}\n",
    "for word in tqdm(words):\n",
    "    tempValue = expectedValue(word, words)\n",
    "    dicty[word] = tempValue\n",
    "    df=open('greenYelBlack_ExpectedValue_sigmoid_prob.txt','a')\n",
    "    df.write(word)\n",
    "    df.write('\\t')\n",
    "    df.write(str(tempValue))\n",
    "    df.write('\\n')\n",
    "    df.close()\n",
    "\n",
    "# the dictionary is sorted in descending order of expected value\n",
    "\n",
    "sortedDict = dict(sorted(dicty.items(), key=lambda x: x[1], reverse= True))\n",
    "\n",
    "# printed in a json file \n",
    "\n",
    "with open(\"greenYelBlack_ExpectedValue_sigmoid_prob.json\", \"w\") as outfile:\n",
    "    json.dump(sortedDict, outfile)\n",
    "\n",
    "# printed in a csv file\n",
    "\n",
    "sorted_df = pd.DataFrame.from_dict(sortedDict.items())\n",
    "sorted_df.to_csv('greenYelBlack_ExpectedValue_sigmoid_prob.csv')"
   ]
  }
 ],
 "metadata": {
  "kernelspec": {
   "display_name": "tf",
   "language": "python",
   "name": "tf"
  },
  "language_info": {
   "codemirror_mode": {
    "name": "ipython",
    "version": 3
   },
   "file_extension": ".py",
   "mimetype": "text/x-python",
   "name": "python",
   "nbconvert_exporter": "python",
   "pygments_lexer": "ipython3",
   "version": "3.9.6"
  }
 },
 "nbformat": 4,
 "nbformat_minor": 5
}
