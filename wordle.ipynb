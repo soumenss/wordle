{
 "cells": [
  {
   "cell_type": "code",
   "execution_count": 20,
   "id": "8d1d0917",
   "metadata": {},
   "outputs": [
    {
     "name": "stdout",
     "output_type": "stream",
     "text": [
      "offering\n"
     ]
    }
   ],
   "source": [
    "leng= 8\n",
    "yellow = 'fo'\n",
    "black= ''\n",
    "green = '---erin'\n",
    "\n",
    "path = (str(leng) + \"_words.txt\")\n",
    "with open(path) as f: lines = f.readlines()\n",
    "words = [word[:-1] for word in lines]\n",
    "yellow_list = list(yellow)\n",
    "black_list = list(black)\n",
    "green_list = list(green)\n",
    "for word in words:\n",
    "    temp = 0\n",
    "    for i in range(len(yellow_list)):\n",
    "        if yellow_list[i].isalpha():\n",
    "            if word.find(yellow_list[i]) in [i, -1]: temp = 1\n",
    "    for i in black_list:\n",
    "        if i in word: temp = 1\n",
    "    for i in range(len(green_list)):\n",
    "        if green_list[i].isalpha():\n",
    "            if word.find(green_list[i])!= i: temp = 1\n",
    "    if temp == 0:\n",
    "        print(word)"
   ]
  },
  {
   "cell_type": "code",
   "execution_count": null,
   "id": "5761050f",
   "metadata": {},
   "outputs": [],
   "source": []
  }
 ],
 "metadata": {
  "kernelspec": {
   "display_name": "tf",
   "language": "python",
   "name": "tf"
  },
  "language_info": {
   "codemirror_mode": {
    "name": "ipython",
    "version": 3
   },
   "file_extension": ".py",
   "mimetype": "text/x-python",
   "name": "python",
   "nbconvert_exporter": "python",
   "pygments_lexer": "ipython3",
   "version": "3.9.6"
  }
 },
 "nbformat": 4,
 "nbformat_minor": 5
}
